{
 "cells": [
  {
   "cell_type": "markdown",
   "metadata": {
    "id": "KbXiowksSNs3"
   },
   "source": [
    "# Películas de IMDb\n"
   ]
  },
  {
   "cell_type": "markdown",
   "metadata": {
    "id": "34RknDhXQ6LI"
   },
   "source": [
    "Vamos a poner en práctica las funciones que hemos visto de tendencia central y dispersión. Completa con las respuestas que vayas obteniendo el formulario que hay disponible en el apartado *Actividades* de la sesión correspondiente en Moodle."
   ]
  },
  {
   "cell_type": "markdown",
   "metadata": {
    "id": "OnvcISE_c97V"
   },
   "source": [
    "## Pasos previos"
   ]
  },
  {
   "cell_type": "code",
   "execution_count": 175,
   "metadata": {
    "id": "ZsKmX-5V49-2"
   },
   "outputs": [
    {
     "data": {
      "text/plain": [
       "'%.2f'"
      ]
     },
     "execution_count": 175,
     "metadata": {},
     "output_type": "execute_result"
    }
   ],
   "source": [
    "# Importamos las librerías de Python necesarias\n",
    "\n",
    "import pandas as pd\n",
    "from scipy import stats\n",
    "\n",
    "# Redondeamos las salidas a dos decimales\n",
    "%precision %.2f"
   ]
  },
  {
   "cell_type": "markdown",
   "metadata": {
    "id": "lySsq8wARNso"
   },
   "source": [
    "Vamos a trabajar con un conjunto de datos en formato CSV que contiene estadísticas sobre 85.855 películas de [IMDB](https://www.imdb.com/).\n",
    "\n",
    "Cada fila contiene la siguiente información:\n",
    "\n",
    "* `imdb_title_id`: identificador de IMDb\n",
    "* `title`: título de la película\n",
    "* `original_title`: título original (normalmente coincide con el campo `title`, pero no siempre)\n",
    "* `year`: año de estreno\n",
    "* `date_published`: fecha de estreno\n",
    "* `genre`: género\n",
    "* `duration`: duración (en minutos)\n",
    "* `country`: país de la película\n",
    "* `language`: idioma original\n",
    "* `director`: nombre del director/a\n",
    "* `writer`: nombre del/la guionista\n",
    "* `production_company`: nombre de la productora\n",
    "* `actors`: nombres de los actores principales, separados por comas\n",
    "* `description`: breve descripción del argumento\n",
    "* `avg_vote`: puntuación de los usuarios (de 0 a 10)\n",
    "* `votes`: número de votos recibidos\n",
    "* `budget`: presupuesto\n",
    "* `usa_gross_income`: recaudación en EE.UU.\n",
    "* `worlwide_gross_income`: recaudación a nivel mundial\n",
    "* `metascore`: puntuación de los críticos (de 0 a 100)\n",
    "* `reviews_from_users`: número de opiniones de los usuarios\n",
    "* `reviews_from_critics`: número de opiniones de los críticos\n"
   ]
  },
  {
   "cell_type": "code",
   "execution_count": 176,
   "metadata": {
    "id": "-vuzvuWIIBE7"
   },
   "outputs": [
    {
     "name": "stdout",
     "output_type": "stream",
     "text": [
      "--2022-02-15 19:46:57--  https://github.com/d-tomas/data-mining/raw/main/datasets/imdb.tgz\n",
      "Cargado certificado CA '/etc/ssl/certs/ca-certificates.crt'\n",
      "Resolviendo github.com (github.com)... 140.82.121.4\n",
      "Conectando con github.com (github.com)[140.82.121.4]:443... conectado.\n",
      "Petición HTTP enviada, esperando respuesta... 302 Found\n",
      "Localización: https://raw.githubusercontent.com/d-tomas/data-mining/main/datasets/imdb.tgz [siguiendo]\n",
      "--2022-02-15 19:46:57--  https://raw.githubusercontent.com/d-tomas/data-mining/main/datasets/imdb.tgz\n",
      "Resolviendo raw.githubusercontent.com (raw.githubusercontent.com)... 2606:50c0:8001::154, 2606:50c0:8003::154, 2606:50c0:8000::154, ...\n",
      "Conectando con raw.githubusercontent.com (raw.githubusercontent.com)[2606:50c0:8001::154]:443... conectado.\n",
      "Petición HTTP enviada, esperando respuesta... 200 OK\n",
      "Longitud: 21689961 (21M) [application/octet-stream]\n",
      "Grabando a: «imdb.tgz»\n",
      "\n",
      "imdb.tgz            100%[===================>]  20,68M  1,23MB/s    en 19s     \n",
      "\n",
      "2022-02-15 19:47:18 (1,09 MB/s) - «imdb.tgz» guardado [21689961/21689961]\n",
      "\n",
      "imdb.csv\n"
     ]
    }
   ],
   "source": [
    "# Obtención del fichero CSV con los datos\n",
    "\n",
    "!wget https://github.com/d-tomas/data-mining/raw/main/datasets/imdb.tgz\n",
    "!tar xvfz imdb.tgz\n",
    "!rm imdb.tgz"
   ]
  },
  {
   "cell_type": "code",
   "execution_count": 177,
   "metadata": {
    "id": "kz4Q-kIkYrBi"
   },
   "outputs": [
    {
     "name": "stderr",
     "output_type": "stream",
     "text": [
      "/home/pablo/ml/my_env/lib/python3.7/site-packages/IPython/core/interactiveshell.py:3147: DtypeWarning: Columns (3) have mixed types.Specify dtype option on import or set low_memory=False.\n",
      "  interactivity=interactivity, compiler=compiler, result=result)\n"
     ]
    },
    {
     "data": {
      "text/html": [
       "<div>\n",
       "<style scoped>\n",
       "    .dataframe tbody tr th:only-of-type {\n",
       "        vertical-align: middle;\n",
       "    }\n",
       "\n",
       "    .dataframe tbody tr th {\n",
       "        vertical-align: top;\n",
       "    }\n",
       "\n",
       "    .dataframe thead th {\n",
       "        text-align: right;\n",
       "    }\n",
       "</style>\n",
       "<table border=\"1\" class=\"dataframe\">\n",
       "  <thead>\n",
       "    <tr style=\"text-align: right;\">\n",
       "      <th></th>\n",
       "      <th>title</th>\n",
       "      <th>original_title</th>\n",
       "      <th>year</th>\n",
       "      <th>date_published</th>\n",
       "      <th>genre</th>\n",
       "      <th>duration</th>\n",
       "      <th>country</th>\n",
       "      <th>language</th>\n",
       "      <th>director</th>\n",
       "      <th>writer</th>\n",
       "      <th>...</th>\n",
       "      <th>actors</th>\n",
       "      <th>description</th>\n",
       "      <th>avg_vote</th>\n",
       "      <th>votes</th>\n",
       "      <th>budget</th>\n",
       "      <th>usa_gross_income</th>\n",
       "      <th>worlwide_gross_income</th>\n",
       "      <th>metascore</th>\n",
       "      <th>reviews_from_users</th>\n",
       "      <th>reviews_from_critics</th>\n",
       "    </tr>\n",
       "    <tr>\n",
       "      <th>imdb_title_id</th>\n",
       "      <th></th>\n",
       "      <th></th>\n",
       "      <th></th>\n",
       "      <th></th>\n",
       "      <th></th>\n",
       "      <th></th>\n",
       "      <th></th>\n",
       "      <th></th>\n",
       "      <th></th>\n",
       "      <th></th>\n",
       "      <th></th>\n",
       "      <th></th>\n",
       "      <th></th>\n",
       "      <th></th>\n",
       "      <th></th>\n",
       "      <th></th>\n",
       "      <th></th>\n",
       "      <th></th>\n",
       "      <th></th>\n",
       "      <th></th>\n",
       "      <th></th>\n",
       "    </tr>\n",
       "  </thead>\n",
       "  <tbody>\n",
       "    <tr>\n",
       "      <th>tt0000009</th>\n",
       "      <td>Miss Jerry</td>\n",
       "      <td>Miss Jerry</td>\n",
       "      <td>1894</td>\n",
       "      <td>1894-10-09</td>\n",
       "      <td>Romance</td>\n",
       "      <td>45</td>\n",
       "      <td>USA</td>\n",
       "      <td>None</td>\n",
       "      <td>Alexander Black</td>\n",
       "      <td>Alexander Black</td>\n",
       "      <td>...</td>\n",
       "      <td>Blanche Bayliss, William Courtenay, Chauncey D...</td>\n",
       "      <td>The adventures of a female reporter in the 1890s.</td>\n",
       "      <td>5.9</td>\n",
       "      <td>154</td>\n",
       "      <td>NaN</td>\n",
       "      <td>NaN</td>\n",
       "      <td>NaN</td>\n",
       "      <td>NaN</td>\n",
       "      <td>1.0</td>\n",
       "      <td>2.0</td>\n",
       "    </tr>\n",
       "    <tr>\n",
       "      <th>tt0000574</th>\n",
       "      <td>The Story of the Kelly Gang</td>\n",
       "      <td>The Story of the Kelly Gang</td>\n",
       "      <td>1906</td>\n",
       "      <td>1906-12-26</td>\n",
       "      <td>Biography, Crime, Drama</td>\n",
       "      <td>70</td>\n",
       "      <td>Australia</td>\n",
       "      <td>None</td>\n",
       "      <td>Charles Tait</td>\n",
       "      <td>Charles Tait</td>\n",
       "      <td>...</td>\n",
       "      <td>Elizabeth Tait, John Tait, Norman Campbell, Be...</td>\n",
       "      <td>True story of notorious Australian outlaw Ned ...</td>\n",
       "      <td>6.1</td>\n",
       "      <td>589</td>\n",
       "      <td>$ 2250</td>\n",
       "      <td>NaN</td>\n",
       "      <td>NaN</td>\n",
       "      <td>NaN</td>\n",
       "      <td>7.0</td>\n",
       "      <td>7.0</td>\n",
       "    </tr>\n",
       "    <tr>\n",
       "      <th>tt0001892</th>\n",
       "      <td>Den sorte drøm</td>\n",
       "      <td>Den sorte drøm</td>\n",
       "      <td>1911</td>\n",
       "      <td>1911-08-19</td>\n",
       "      <td>Drama</td>\n",
       "      <td>53</td>\n",
       "      <td>Germany, Denmark</td>\n",
       "      <td>NaN</td>\n",
       "      <td>Urban Gad</td>\n",
       "      <td>Urban Gad, Gebhard Schätzler-Perasini</td>\n",
       "      <td>...</td>\n",
       "      <td>Asta Nielsen, Valdemar Psilander, Gunnar Helse...</td>\n",
       "      <td>Two men of high rank are both wooing the beaut...</td>\n",
       "      <td>5.8</td>\n",
       "      <td>188</td>\n",
       "      <td>NaN</td>\n",
       "      <td>NaN</td>\n",
       "      <td>NaN</td>\n",
       "      <td>NaN</td>\n",
       "      <td>5.0</td>\n",
       "      <td>2.0</td>\n",
       "    </tr>\n",
       "    <tr>\n",
       "      <th>tt0002101</th>\n",
       "      <td>Cleopatra</td>\n",
       "      <td>Cleopatra</td>\n",
       "      <td>1912</td>\n",
       "      <td>1912-11-13</td>\n",
       "      <td>Drama, History</td>\n",
       "      <td>100</td>\n",
       "      <td>USA</td>\n",
       "      <td>English</td>\n",
       "      <td>Charles L. Gaskill</td>\n",
       "      <td>Victorien Sardou</td>\n",
       "      <td>...</td>\n",
       "      <td>Helen Gardner, Pearl Sindelar, Miss Fielding, ...</td>\n",
       "      <td>The fabled queen of Egypt's affair with Roman ...</td>\n",
       "      <td>5.2</td>\n",
       "      <td>446</td>\n",
       "      <td>$ 45000</td>\n",
       "      <td>NaN</td>\n",
       "      <td>NaN</td>\n",
       "      <td>NaN</td>\n",
       "      <td>25.0</td>\n",
       "      <td>3.0</td>\n",
       "    </tr>\n",
       "    <tr>\n",
       "      <th>tt0002130</th>\n",
       "      <td>L'Inferno</td>\n",
       "      <td>L'Inferno</td>\n",
       "      <td>1911</td>\n",
       "      <td>1911-03-06</td>\n",
       "      <td>Adventure, Drama, Fantasy</td>\n",
       "      <td>68</td>\n",
       "      <td>Italy</td>\n",
       "      <td>Italian</td>\n",
       "      <td>Francesco Bertolini, Adolfo Padovan</td>\n",
       "      <td>Dante Alighieri</td>\n",
       "      <td>...</td>\n",
       "      <td>Salvatore Papa, Arturo Pirovano, Giuseppe de L...</td>\n",
       "      <td>Loosely adapted from Dante's Divine Comedy and...</td>\n",
       "      <td>7.0</td>\n",
       "      <td>2237</td>\n",
       "      <td>NaN</td>\n",
       "      <td>NaN</td>\n",
       "      <td>NaN</td>\n",
       "      <td>NaN</td>\n",
       "      <td>31.0</td>\n",
       "      <td>14.0</td>\n",
       "    </tr>\n",
       "    <tr>\n",
       "      <th>...</th>\n",
       "      <td>...</td>\n",
       "      <td>...</td>\n",
       "      <td>...</td>\n",
       "      <td>...</td>\n",
       "      <td>...</td>\n",
       "      <td>...</td>\n",
       "      <td>...</td>\n",
       "      <td>...</td>\n",
       "      <td>...</td>\n",
       "      <td>...</td>\n",
       "      <td>...</td>\n",
       "      <td>...</td>\n",
       "      <td>...</td>\n",
       "      <td>...</td>\n",
       "      <td>...</td>\n",
       "      <td>...</td>\n",
       "      <td>...</td>\n",
       "      <td>...</td>\n",
       "      <td>...</td>\n",
       "      <td>...</td>\n",
       "      <td>...</td>\n",
       "    </tr>\n",
       "    <tr>\n",
       "      <th>tt9908390</th>\n",
       "      <td>Le lion</td>\n",
       "      <td>Le lion</td>\n",
       "      <td>2020</td>\n",
       "      <td>2020-01-29</td>\n",
       "      <td>Comedy</td>\n",
       "      <td>95</td>\n",
       "      <td>France, Belgium</td>\n",
       "      <td>French</td>\n",
       "      <td>Ludovic Colbeau-Justin</td>\n",
       "      <td>Alexandre Coquelle, Matthieu Le Naour</td>\n",
       "      <td>...</td>\n",
       "      <td>Dany Boon, Philippe Katerine, Anne Serra, Samu...</td>\n",
       "      <td>A psychiatric hospital patient pretends to be ...</td>\n",
       "      <td>5.3</td>\n",
       "      <td>398</td>\n",
       "      <td>NaN</td>\n",
       "      <td>NaN</td>\n",
       "      <td>$ 3507171</td>\n",
       "      <td>NaN</td>\n",
       "      <td>NaN</td>\n",
       "      <td>4.0</td>\n",
       "    </tr>\n",
       "    <tr>\n",
       "      <th>tt9911196</th>\n",
       "      <td>De Beentjes van Sint-Hildegard</td>\n",
       "      <td>De Beentjes van Sint-Hildegard</td>\n",
       "      <td>2020</td>\n",
       "      <td>2020-02-13</td>\n",
       "      <td>Comedy, Drama</td>\n",
       "      <td>103</td>\n",
       "      <td>Netherlands</td>\n",
       "      <td>German, Dutch</td>\n",
       "      <td>Johan Nijenhuis</td>\n",
       "      <td>Radek Bajgar, Herman Finkers</td>\n",
       "      <td>...</td>\n",
       "      <td>Herman Finkers, Johanna ter Steege, Leonie ter...</td>\n",
       "      <td>A middle-aged veterinary surgeon believes his ...</td>\n",
       "      <td>7.7</td>\n",
       "      <td>724</td>\n",
       "      <td>NaN</td>\n",
       "      <td>NaN</td>\n",
       "      <td>$ 7299062</td>\n",
       "      <td>NaN</td>\n",
       "      <td>6.0</td>\n",
       "      <td>4.0</td>\n",
       "    </tr>\n",
       "    <tr>\n",
       "      <th>tt9911774</th>\n",
       "      <td>Padmavyuhathile Abhimanyu</td>\n",
       "      <td>Padmavyuhathile Abhimanyu</td>\n",
       "      <td>2019</td>\n",
       "      <td>2019-03-08</td>\n",
       "      <td>Drama</td>\n",
       "      <td>130</td>\n",
       "      <td>India</td>\n",
       "      <td>Malayalam</td>\n",
       "      <td>Vineesh Aaradya</td>\n",
       "      <td>Vineesh Aaradya, Vineesh Aaradya</td>\n",
       "      <td>...</td>\n",
       "      <td>Anoop Chandran, Indrans, Sona Nair, Simon Brit...</td>\n",
       "      <td>NaN</td>\n",
       "      <td>7.9</td>\n",
       "      <td>265</td>\n",
       "      <td>NaN</td>\n",
       "      <td>NaN</td>\n",
       "      <td>NaN</td>\n",
       "      <td>NaN</td>\n",
       "      <td>NaN</td>\n",
       "      <td>NaN</td>\n",
       "    </tr>\n",
       "    <tr>\n",
       "      <th>tt9914286</th>\n",
       "      <td>Sokagin Çocuklari</td>\n",
       "      <td>Sokagin Çocuklari</td>\n",
       "      <td>2019</td>\n",
       "      <td>2019-03-15</td>\n",
       "      <td>Drama, Family</td>\n",
       "      <td>98</td>\n",
       "      <td>Turkey</td>\n",
       "      <td>Turkish</td>\n",
       "      <td>Ahmet Faik Akinci</td>\n",
       "      <td>Ahmet Faik Akinci, Kasim Uçkan</td>\n",
       "      <td>...</td>\n",
       "      <td>Ahmet Faik Akinci, Belma Mamati, Metin Keçeci,...</td>\n",
       "      <td>NaN</td>\n",
       "      <td>6.4</td>\n",
       "      <td>194</td>\n",
       "      <td>NaN</td>\n",
       "      <td>NaN</td>\n",
       "      <td>$ 2833</td>\n",
       "      <td>NaN</td>\n",
       "      <td>NaN</td>\n",
       "      <td>NaN</td>\n",
       "    </tr>\n",
       "    <tr>\n",
       "      <th>tt9914942</th>\n",
       "      <td>La vida sense la Sara Amat</td>\n",
       "      <td>La vida sense la Sara Amat</td>\n",
       "      <td>2019</td>\n",
       "      <td>2020-02-05</td>\n",
       "      <td>Drama</td>\n",
       "      <td>74</td>\n",
       "      <td>Spain</td>\n",
       "      <td>Catalan</td>\n",
       "      <td>Laura Jou</td>\n",
       "      <td>Coral Cruz, Pep Puig</td>\n",
       "      <td>...</td>\n",
       "      <td>Maria Morera Colomer, Biel Rossell Pelfort, Is...</td>\n",
       "      <td>Pep, a 13-year-old boy, is in love with a girl...</td>\n",
       "      <td>6.7</td>\n",
       "      <td>102</td>\n",
       "      <td>NaN</td>\n",
       "      <td>NaN</td>\n",
       "      <td>$ 59794</td>\n",
       "      <td>NaN</td>\n",
       "      <td>NaN</td>\n",
       "      <td>2.0</td>\n",
       "    </tr>\n",
       "  </tbody>\n",
       "</table>\n",
       "<p>85855 rows × 21 columns</p>\n",
       "</div>"
      ],
      "text/plain": [
       "                                        title                  original_title  \\\n",
       "imdb_title_id                                                                   \n",
       "tt0000009                          Miss Jerry                      Miss Jerry   \n",
       "tt0000574         The Story of the Kelly Gang     The Story of the Kelly Gang   \n",
       "tt0001892                      Den sorte drøm                  Den sorte drøm   \n",
       "tt0002101                           Cleopatra                       Cleopatra   \n",
       "tt0002130                           L'Inferno                       L'Inferno   \n",
       "...                                       ...                             ...   \n",
       "tt9908390                             Le lion                         Le lion   \n",
       "tt9911196      De Beentjes van Sint-Hildegard  De Beentjes van Sint-Hildegard   \n",
       "tt9911774           Padmavyuhathile Abhimanyu       Padmavyuhathile Abhimanyu   \n",
       "tt9914286                   Sokagin Çocuklari               Sokagin Çocuklari   \n",
       "tt9914942          La vida sense la Sara Amat      La vida sense la Sara Amat   \n",
       "\n",
       "               year date_published                      genre  duration  \\\n",
       "imdb_title_id                                                             \n",
       "tt0000009      1894     1894-10-09                    Romance        45   \n",
       "tt0000574      1906     1906-12-26    Biography, Crime, Drama        70   \n",
       "tt0001892      1911     1911-08-19                      Drama        53   \n",
       "tt0002101      1912     1912-11-13             Drama, History       100   \n",
       "tt0002130      1911     1911-03-06  Adventure, Drama, Fantasy        68   \n",
       "...             ...            ...                        ...       ...   \n",
       "tt9908390      2020     2020-01-29                     Comedy        95   \n",
       "tt9911196      2020     2020-02-13              Comedy, Drama       103   \n",
       "tt9911774      2019     2019-03-08                      Drama       130   \n",
       "tt9914286      2019     2019-03-15              Drama, Family        98   \n",
       "tt9914942      2019     2020-02-05                      Drama        74   \n",
       "\n",
       "                        country       language  \\\n",
       "imdb_title_id                                    \n",
       "tt0000009                   USA           None   \n",
       "tt0000574             Australia           None   \n",
       "tt0001892      Germany, Denmark            NaN   \n",
       "tt0002101                   USA        English   \n",
       "tt0002130                 Italy        Italian   \n",
       "...                         ...            ...   \n",
       "tt9908390       France, Belgium         French   \n",
       "tt9911196           Netherlands  German, Dutch   \n",
       "tt9911774                 India      Malayalam   \n",
       "tt9914286                Turkey        Turkish   \n",
       "tt9914942                 Spain        Catalan   \n",
       "\n",
       "                                          director  \\\n",
       "imdb_title_id                                        \n",
       "tt0000009                          Alexander Black   \n",
       "tt0000574                             Charles Tait   \n",
       "tt0001892                                Urban Gad   \n",
       "tt0002101                       Charles L. Gaskill   \n",
       "tt0002130      Francesco Bertolini, Adolfo Padovan   \n",
       "...                                            ...   \n",
       "tt9908390                   Ludovic Colbeau-Justin   \n",
       "tt9911196                          Johan Nijenhuis   \n",
       "tt9911774                          Vineesh Aaradya   \n",
       "tt9914286                        Ahmet Faik Akinci   \n",
       "tt9914942                                Laura Jou   \n",
       "\n",
       "                                              writer  ...  \\\n",
       "imdb_title_id                                         ...   \n",
       "tt0000009                            Alexander Black  ...   \n",
       "tt0000574                               Charles Tait  ...   \n",
       "tt0001892      Urban Gad, Gebhard Schätzler-Perasini  ...   \n",
       "tt0002101                           Victorien Sardou  ...   \n",
       "tt0002130                            Dante Alighieri  ...   \n",
       "...                                              ...  ...   \n",
       "tt9908390      Alexandre Coquelle, Matthieu Le Naour  ...   \n",
       "tt9911196               Radek Bajgar, Herman Finkers  ...   \n",
       "tt9911774           Vineesh Aaradya, Vineesh Aaradya  ...   \n",
       "tt9914286             Ahmet Faik Akinci, Kasim Uçkan  ...   \n",
       "tt9914942                       Coral Cruz, Pep Puig  ...   \n",
       "\n",
       "                                                          actors  \\\n",
       "imdb_title_id                                                      \n",
       "tt0000009      Blanche Bayliss, William Courtenay, Chauncey D...   \n",
       "tt0000574      Elizabeth Tait, John Tait, Norman Campbell, Be...   \n",
       "tt0001892      Asta Nielsen, Valdemar Psilander, Gunnar Helse...   \n",
       "tt0002101      Helen Gardner, Pearl Sindelar, Miss Fielding, ...   \n",
       "tt0002130      Salvatore Papa, Arturo Pirovano, Giuseppe de L...   \n",
       "...                                                          ...   \n",
       "tt9908390      Dany Boon, Philippe Katerine, Anne Serra, Samu...   \n",
       "tt9911196      Herman Finkers, Johanna ter Steege, Leonie ter...   \n",
       "tt9911774      Anoop Chandran, Indrans, Sona Nair, Simon Brit...   \n",
       "tt9914286      Ahmet Faik Akinci, Belma Mamati, Metin Keçeci,...   \n",
       "tt9914942      Maria Morera Colomer, Biel Rossell Pelfort, Is...   \n",
       "\n",
       "                                                     description avg_vote  \\\n",
       "imdb_title_id                                                               \n",
       "tt0000009      The adventures of a female reporter in the 1890s.      5.9   \n",
       "tt0000574      True story of notorious Australian outlaw Ned ...      6.1   \n",
       "tt0001892      Two men of high rank are both wooing the beaut...      5.8   \n",
       "tt0002101      The fabled queen of Egypt's affair with Roman ...      5.2   \n",
       "tt0002130      Loosely adapted from Dante's Divine Comedy and...      7.0   \n",
       "...                                                          ...      ...   \n",
       "tt9908390      A psychiatric hospital patient pretends to be ...      5.3   \n",
       "tt9911196      A middle-aged veterinary surgeon believes his ...      7.7   \n",
       "tt9911774                                                    NaN      7.9   \n",
       "tt9914286                                                    NaN      6.4   \n",
       "tt9914942      Pep, a 13-year-old boy, is in love with a girl...      6.7   \n",
       "\n",
       "               votes   budget usa_gross_income worlwide_gross_income  \\\n",
       "imdb_title_id                                                          \n",
       "tt0000009        154      NaN              NaN                   NaN   \n",
       "tt0000574        589   $ 2250              NaN                   NaN   \n",
       "tt0001892        188      NaN              NaN                   NaN   \n",
       "tt0002101        446  $ 45000              NaN                   NaN   \n",
       "tt0002130       2237      NaN              NaN                   NaN   \n",
       "...              ...      ...              ...                   ...   \n",
       "tt9908390        398      NaN              NaN             $ 3507171   \n",
       "tt9911196        724      NaN              NaN             $ 7299062   \n",
       "tt9911774        265      NaN              NaN                   NaN   \n",
       "tt9914286        194      NaN              NaN                $ 2833   \n",
       "tt9914942        102      NaN              NaN               $ 59794   \n",
       "\n",
       "              metascore  reviews_from_users  reviews_from_critics  \n",
       "imdb_title_id                                                      \n",
       "tt0000009           NaN                 1.0                   2.0  \n",
       "tt0000574           NaN                 7.0                   7.0  \n",
       "tt0001892           NaN                 5.0                   2.0  \n",
       "tt0002101           NaN                25.0                   3.0  \n",
       "tt0002130           NaN                31.0                  14.0  \n",
       "...                 ...                 ...                   ...  \n",
       "tt9908390           NaN                 NaN                   4.0  \n",
       "tt9911196           NaN                 6.0                   4.0  \n",
       "tt9911774           NaN                 NaN                   NaN  \n",
       "tt9914286           NaN                 NaN                   NaN  \n",
       "tt9914942           NaN                 NaN                   2.0  \n",
       "\n",
       "[85855 rows x 21 columns]"
      ]
     },
     "execution_count": 177,
     "metadata": {},
     "output_type": "execute_result"
    }
   ],
   "source": [
    "# Cargamos los datos en formato CSV\n",
    "\n",
    "data = pd.read_csv('imdb.csv', index_col='imdb_title_id')\n",
    "data"
   ]
  },
  {
   "cell_type": "markdown",
   "metadata": {
    "id": "cC9hGBbEHar1"
   },
   "source": [
    "## Un poco de limpieza inicial"
   ]
  },
  {
   "cell_type": "code",
   "execution_count": 178,
   "metadata": {
    "id": "665p0yIcuD8J"
   },
   "outputs": [
    {
     "name": "stdout",
     "output_type": "stream",
     "text": [
      "<class 'pandas.core.frame.DataFrame'>\n",
      "Index: 85855 entries, tt0000009 to tt9914942\n",
      "Data columns (total 21 columns):\n",
      " #   Column                 Non-Null Count  Dtype  \n",
      "---  ------                 --------------  -----  \n",
      " 0   title                  85855 non-null  object \n",
      " 1   original_title         85855 non-null  object \n",
      " 2   year                   85855 non-null  object \n",
      " 3   date_published         85855 non-null  object \n",
      " 4   genre                  85855 non-null  object \n",
      " 5   duration               85855 non-null  int64  \n",
      " 6   country                85791 non-null  object \n",
      " 7   language               85022 non-null  object \n",
      " 8   director               85768 non-null  object \n",
      " 9   writer                 84283 non-null  object \n",
      " 10  production_company     81400 non-null  object \n",
      " 11  actors                 85786 non-null  object \n",
      " 12  description            83740 non-null  object \n",
      " 13  avg_vote               85855 non-null  float64\n",
      " 14  votes                  85855 non-null  int64  \n",
      " 15  budget                 23710 non-null  object \n",
      " 16  usa_gross_income       15326 non-null  object \n",
      " 17  worlwide_gross_income  31016 non-null  object \n",
      " 18  metascore              13305 non-null  float64\n",
      " 19  reviews_from_users     78258 non-null  float64\n",
      " 20  reviews_from_critics   74058 non-null  float64\n",
      "dtypes: float64(4), int64(2), object(15)\n",
      "memory usage: 14.4+ MB\n"
     ]
    }
   ],
   "source": [
    "# Vamos a ver los tipos de datos de cada columna\n",
    "\n",
    "data.info()"
   ]
  },
  {
   "cell_type": "code",
   "execution_count": 179,
   "metadata": {
    "id": "O7dp8qNmHdwg"
   },
   "outputs": [],
   "source": [
    "# Renombra la columna 'worlwide_gross_income' como 'worldwide_gross_income'\n",
    "data.rename(columns={'worlwide_gross_income': 'worldwide_gross_income'}, inplace=True)\n",
    "\n",
    "# Transformar a valor numérico el año\n",
    "data['year'] = pd.to_numeric(data['year'], errors='coerce')\n",
    "\n",
    "# Transforma 'worldwide_gross_income' a numérico\n",
    "data['worldwide_gross_income'] = pd.to_numeric(data['worldwide_gross_income'].str.split(' ').str[-1], errors='coerce')"
   ]
  },
  {
   "cell_type": "markdown",
   "metadata": {
    "id": "o2syHpAbZXfV"
   },
   "source": [
    "## Ejercicios"
   ]
  },
  {
   "cell_type": "markdown",
   "metadata": {
    "id": "hzVkzuq0gyql"
   },
   "source": [
    "**1.** ¿Cuánto dura (`duration`) la película más corta?"
   ]
  },
  {
   "cell_type": "code",
   "execution_count": 180,
   "metadata": {
    "id": "IK7TfGBvZ7xC"
   },
   "outputs": [
    {
     "data": {
      "text/plain": [
       "41"
      ]
     },
     "execution_count": 180,
     "metadata": {},
     "output_type": "execute_result"
    }
   ],
   "source": [
    "data[\"duration\"].min()"
   ]
  },
  {
   "cell_type": "markdown",
   "metadata": {
    "id": "UVoMunfMg45F"
   },
   "source": [
    "**2.** ¿Cuál es el título (`title`) de la película más larga (`duration`)?"
   ]
  },
  {
   "cell_type": "code",
   "execution_count": 181,
   "metadata": {
    "id": "R_P1DAikaF-F"
   },
   "outputs": [
    {
     "data": {
      "text/html": [
       "<div>\n",
       "<style scoped>\n",
       "    .dataframe tbody tr th:only-of-type {\n",
       "        vertical-align: middle;\n",
       "    }\n",
       "\n",
       "    .dataframe tbody tr th {\n",
       "        vertical-align: top;\n",
       "    }\n",
       "\n",
       "    .dataframe thead th {\n",
       "        text-align: right;\n",
       "    }\n",
       "</style>\n",
       "<table border=\"1\" class=\"dataframe\">\n",
       "  <thead>\n",
       "    <tr style=\"text-align: right;\">\n",
       "      <th></th>\n",
       "      <th>title</th>\n",
       "    </tr>\n",
       "    <tr>\n",
       "      <th>imdb_title_id</th>\n",
       "      <th></th>\n",
       "    </tr>\n",
       "  </thead>\n",
       "  <tbody>\n",
       "    <tr>\n",
       "      <th>tt9047474</th>\n",
       "      <td>La flor</td>\n",
       "    </tr>\n",
       "  </tbody>\n",
       "</table>\n",
       "</div>"
      ],
      "text/plain": [
       "                 title\n",
       "imdb_title_id         \n",
       "tt9047474      La flor"
      ]
     },
     "execution_count": 181,
     "metadata": {},
     "output_type": "execute_result"
    }
   ],
   "source": [
    "data.loc[data[\"duration\"] == data[\"duration\"].max(), [\"title\"]]"
   ]
  },
  {
   "cell_type": "markdown",
   "metadata": {
    "id": "e5eUMYBOhiM-"
   },
   "source": [
    "**3.** ¿Cuántas películas tienen vacía la puntuación de los críticos (`metascore`)?"
   ]
  },
  {
   "cell_type": "code",
   "execution_count": 182,
   "metadata": {
    "id": "ZucB5ocedSwb"
   },
   "outputs": [
    {
     "data": {
      "text/html": [
       "<div>\n",
       "<style scoped>\n",
       "    .dataframe tbody tr th:only-of-type {\n",
       "        vertical-align: middle;\n",
       "    }\n",
       "\n",
       "    .dataframe tbody tr th {\n",
       "        vertical-align: top;\n",
       "    }\n",
       "\n",
       "    .dataframe thead th {\n",
       "        text-align: right;\n",
       "    }\n",
       "</style>\n",
       "<table border=\"1\" class=\"dataframe\">\n",
       "  <thead>\n",
       "    <tr style=\"text-align: right;\">\n",
       "      <th></th>\n",
       "      <th>title</th>\n",
       "    </tr>\n",
       "    <tr>\n",
       "      <th>imdb_title_id</th>\n",
       "      <th></th>\n",
       "    </tr>\n",
       "  </thead>\n",
       "  <tbody>\n",
       "    <tr>\n",
       "      <th>tt0000009</th>\n",
       "      <td>Miss Jerry</td>\n",
       "    </tr>\n",
       "    <tr>\n",
       "      <th>tt0000574</th>\n",
       "      <td>The Story of the Kelly Gang</td>\n",
       "    </tr>\n",
       "    <tr>\n",
       "      <th>tt0001892</th>\n",
       "      <td>Den sorte drøm</td>\n",
       "    </tr>\n",
       "    <tr>\n",
       "      <th>tt0002101</th>\n",
       "      <td>Cleopatra</td>\n",
       "    </tr>\n",
       "    <tr>\n",
       "      <th>tt0002130</th>\n",
       "      <td>L'Inferno</td>\n",
       "    </tr>\n",
       "    <tr>\n",
       "      <th>...</th>\n",
       "      <td>...</td>\n",
       "    </tr>\n",
       "    <tr>\n",
       "      <th>tt9908390</th>\n",
       "      <td>Le lion</td>\n",
       "    </tr>\n",
       "    <tr>\n",
       "      <th>tt9911196</th>\n",
       "      <td>De Beentjes van Sint-Hildegard</td>\n",
       "    </tr>\n",
       "    <tr>\n",
       "      <th>tt9911774</th>\n",
       "      <td>Padmavyuhathile Abhimanyu</td>\n",
       "    </tr>\n",
       "    <tr>\n",
       "      <th>tt9914286</th>\n",
       "      <td>Sokagin Çocuklari</td>\n",
       "    </tr>\n",
       "    <tr>\n",
       "      <th>tt9914942</th>\n",
       "      <td>La vida sense la Sara Amat</td>\n",
       "    </tr>\n",
       "  </tbody>\n",
       "</table>\n",
       "<p>72550 rows × 1 columns</p>\n",
       "</div>"
      ],
      "text/plain": [
       "                                        title\n",
       "imdb_title_id                                \n",
       "tt0000009                          Miss Jerry\n",
       "tt0000574         The Story of the Kelly Gang\n",
       "tt0001892                      Den sorte drøm\n",
       "tt0002101                           Cleopatra\n",
       "tt0002130                           L'Inferno\n",
       "...                                       ...\n",
       "tt9908390                             Le lion\n",
       "tt9911196      De Beentjes van Sint-Hildegard\n",
       "tt9911774           Padmavyuhathile Abhimanyu\n",
       "tt9914286                   Sokagin Çocuklari\n",
       "tt9914942          La vida sense la Sara Amat\n",
       "\n",
       "[72550 rows x 1 columns]"
      ]
     },
     "execution_count": 182,
     "metadata": {},
     "output_type": "execute_result"
    }
   ],
   "source": [
    "data.loc[data[\"metascore\"].isna(), [\"title\"]]"
   ]
  },
  {
   "cell_type": "code",
   "execution_count": 183,
   "metadata": {},
   "outputs": [
    {
     "data": {
      "text/plain": [
       "72550"
      ]
     },
     "execution_count": 183,
     "metadata": {},
     "output_type": "execute_result"
    }
   ],
   "source": [
    "data[\"metascore\"].isna().sum()"
   ]
  },
  {
   "cell_type": "markdown",
   "metadata": {
    "id": "Sbf2hAf2hDCT"
   },
   "source": [
    "**4.** ¿Cuál es la puntuación media de los críticos (`metascore`) para todas las películas?"
   ]
  },
  {
   "cell_type": "code",
   "execution_count": 184,
   "metadata": {
    "id": "XdhiCHCRaRnQ"
   },
   "outputs": [
    {
     "data": {
      "text/plain": [
       "55.89688087185269"
      ]
     },
     "execution_count": 184,
     "metadata": {},
     "output_type": "execute_result"
    }
   ],
   "source": [
    "data[\"metascore\"].mean()"
   ]
  },
  {
   "cell_type": "markdown",
   "metadata": {
    "id": "imPn0t5mhHUF"
   },
   "source": [
    "**5.** ¿Y la puntuación media de los usuarios (`avg_vote`)?"
   ]
  },
  {
   "cell_type": "code",
   "execution_count": 185,
   "metadata": {
    "id": "GIug2OcHatzF"
   },
   "outputs": [
    {
     "data": {
      "text/plain": [
       "5.898655873274707"
      ]
     },
     "execution_count": 185,
     "metadata": {},
     "output_type": "execute_result"
    }
   ],
   "source": [
    "data[\"avg_vote\"].mean()"
   ]
  },
  {
   "cell_type": "markdown",
   "metadata": {
    "id": "p4lBdOsVhnxU"
   },
   "source": [
    "**6.** ¿Cuál es el rango intercuartil de la puntuación de los usuarios (`avg_vote`)?"
   ]
  },
  {
   "cell_type": "code",
   "execution_count": 186,
   "metadata": {
    "id": "7uS-jR6-d-Ot"
   },
   "outputs": [
    {
     "data": {
      "text/plain": [
       "1.5999999999999996"
      ]
     },
     "execution_count": 186,
     "metadata": {},
     "output_type": "execute_result"
    }
   ],
   "source": [
    "data['avg_vote'].quantile(0.75) - data['avg_vote'].quantile(0.25)"
   ]
  },
  {
   "cell_type": "markdown",
   "metadata": {
    "id": "HtOtrtQFhZNy"
   },
   "source": [
    "**7.** ¿Cuántas películas han conseguido una puntuación de los usuarios (`avg_vote`) superior a 9?"
   ]
  },
  {
   "cell_type": "code",
   "execution_count": 187,
   "metadata": {
    "id": "VVESbUh_b_pA"
   },
   "outputs": [
    {
     "data": {
      "text/plain": [
       "36"
      ]
     },
     "execution_count": 187,
     "metadata": {},
     "output_type": "execute_result"
    }
   ],
   "source": [
    "(data['avg_vote'] > 9).sum()"
   ]
  },
  {
   "cell_type": "markdown",
   "metadata": {
    "id": "tNwGuw6ihVZg"
   },
   "source": [
    "**8.** ¿Qué director (`director`) ha dirigido más películas?"
   ]
  },
  {
   "cell_type": "code",
   "execution_count": 188,
   "metadata": {
    "id": "XkyYSt61bH39"
   },
   "outputs": [
    {
     "data": {
      "text/plain": [
       "'Jesús Franco'"
      ]
     },
     "execution_count": 188,
     "metadata": {},
     "output_type": "execute_result"
    }
   ],
   "source": [
    " data.iloc[data.groupby(\"director\")[\"director\"].transform(\"count\").argmax()][\"director\"]"
   ]
  },
  {
   "cell_type": "markdown",
   "metadata": {
    "id": "TK8PBIHQhq7G"
   },
   "source": [
    "**9.** ¿Cuántas películas hay con el mismo título (`title`) y año (`year`) de estreno?"
   ]
  },
  {
   "cell_type": "code",
   "execution_count": 189,
   "metadata": {
    "id": "mhfEBh9TekWa"
   },
   "outputs": [
    {
     "data": {
      "text/plain": [
       "119"
      ]
     },
     "execution_count": 189,
     "metadata": {},
     "output_type": "execute_result"
    }
   ],
   "source": [
    "data.duplicated(['title', 'year']).sum()"
   ]
  },
  {
   "cell_type": "markdown",
   "metadata": {
    "id": "NPeISa-BhvUG"
   },
   "source": [
    "**10.** ¿Qué película tiene la puntuación más alta de los usuarios (`avg_vote`)?"
   ]
  },
  {
   "cell_type": "code",
   "execution_count": 190,
   "metadata": {
    "id": "JgCVtKAaa6r-"
   },
   "outputs": [
    {
     "data": {
      "text/plain": [
       "'Suvarna Sundari'"
      ]
     },
     "execution_count": 190,
     "metadata": {},
     "output_type": "execute_result"
    }
   ],
   "source": [
    "data.iloc[data[\"avg_vote\"].argmax()][\"title\"]"
   ]
  },
  {
   "cell_type": "markdown",
   "metadata": {
    "id": "NEDLNd83h-36"
   },
   "source": [
    "**11.** ¿Cuál es la película más reciente que ha obtenido una puntuación de 100 de los críticos (`metascore`)?"
   ]
  },
  {
   "cell_type": "code",
   "execution_count": 191,
   "metadata": {
    "id": "sbDJ4Qosf0LX"
   },
   "outputs": [
    {
     "data": {
      "text/html": [
       "<div>\n",
       "<style scoped>\n",
       "    .dataframe tbody tr th:only-of-type {\n",
       "        vertical-align: middle;\n",
       "    }\n",
       "\n",
       "    .dataframe tbody tr th {\n",
       "        vertical-align: top;\n",
       "    }\n",
       "\n",
       "    .dataframe thead th {\n",
       "        text-align: right;\n",
       "    }\n",
       "</style>\n",
       "<table border=\"1\" class=\"dataframe\">\n",
       "  <thead>\n",
       "    <tr style=\"text-align: right;\">\n",
       "      <th></th>\n",
       "      <th>title</th>\n",
       "      <th>year</th>\n",
       "      <th>metascore</th>\n",
       "    </tr>\n",
       "    <tr>\n",
       "      <th>imdb_title_id</th>\n",
       "      <th></th>\n",
       "      <th></th>\n",
       "      <th></th>\n",
       "    </tr>\n",
       "  </thead>\n",
       "  <tbody>\n",
       "    <tr>\n",
       "      <th>tt1065073</th>\n",
       "      <td>Boyhood</td>\n",
       "      <td>2014.0</td>\n",
       "      <td>100.0</td>\n",
       "    </tr>\n",
       "  </tbody>\n",
       "</table>\n",
       "</div>"
      ],
      "text/plain": [
       "                 title    year  metascore\n",
       "imdb_title_id                            \n",
       "tt1065073      Boyhood  2014.0      100.0"
      ]
     },
     "execution_count": 191,
     "metadata": {},
     "output_type": "execute_result"
    }
   ],
   "source": [
    "data.loc[data[\"metascore\"]==100, [\"title\", \"year\", \"metascore\"]].sort_values(by=[\"year\"], ascending=False).head(1)"
   ]
  },
  {
   "cell_type": "code",
   "execution_count": 192,
   "metadata": {},
   "outputs": [
    {
     "name": "stdout",
     "output_type": "stream",
     "text": [
      "<class 'pandas.core.frame.DataFrame'>\n",
      "Index: 85855 entries, tt0000009 to tt9914942\n",
      "Data columns (total 21 columns):\n",
      " #   Column                  Non-Null Count  Dtype  \n",
      "---  ------                  --------------  -----  \n",
      " 0   title                   85855 non-null  object \n",
      " 1   original_title          85855 non-null  object \n",
      " 2   year                    85854 non-null  float64\n",
      " 3   date_published          85855 non-null  object \n",
      " 4   genre                   85855 non-null  object \n",
      " 5   duration                85855 non-null  int64  \n",
      " 6   country                 85791 non-null  object \n",
      " 7   language                85022 non-null  object \n",
      " 8   director                85768 non-null  object \n",
      " 9   writer                  84283 non-null  object \n",
      " 10  production_company      81400 non-null  object \n",
      " 11  actors                  85786 non-null  object \n",
      " 12  description             83740 non-null  object \n",
      " 13  avg_vote                85855 non-null  float64\n",
      " 14  votes                   85855 non-null  int64  \n",
      " 15  budget                  23710 non-null  object \n",
      " 16  usa_gross_income        15326 non-null  object \n",
      " 17  worldwide_gross_income  31016 non-null  float64\n",
      " 18  metascore               13305 non-null  float64\n",
      " 19  reviews_from_users      78258 non-null  float64\n",
      " 20  reviews_from_critics    74058 non-null  float64\n",
      "dtypes: float64(6), int64(2), object(13)\n",
      "memory usage: 14.4+ MB\n"
     ]
    }
   ],
   "source": [
    "data.info()"
   ]
  },
  {
   "cell_type": "markdown",
   "metadata": {
    "id": "U-bz7TbMibUY"
   },
   "source": [
    "**12.** ¿Cuál es la recaudación media mundial (`worldwide_gross_income`) para las películas anteriores a 1950?"
   ]
  },
  {
   "cell_type": "code",
   "execution_count": 193,
   "metadata": {
    "id": "xxD-PLDhjQLq"
   },
   "outputs": [
    {
     "data": {
      "text/plain": [
       "worldwide_gross_income    6.774693e+06\n",
       "dtype: float64"
      ]
     },
     "execution_count": 193,
     "metadata": {},
     "output_type": "execute_result"
    }
   ],
   "source": [
    "data.loc[data[\"year\"]<=1950, [\"worldwide_gross_income\"]].mean()"
   ]
  },
  {
   "cell_type": "markdown",
   "metadata": {
    "id": "i6HBHIsZqjTC"
   },
   "source": [
    "**13.** ¿Cuál es la desviación estándar de la puntuación de los críticos (`metascore`)?"
   ]
  },
  {
   "cell_type": "code",
   "execution_count": 194,
   "metadata": {
    "id": "hVYGR0Kaqh76"
   },
   "outputs": [
    {
     "data": {
      "text/plain": [
       "17.784874272765876"
      ]
     },
     "execution_count": 194,
     "metadata": {},
     "output_type": "execute_result"
    }
   ],
   "source": [
    "data[\"metascore\"].std()"
   ]
  },
  {
   "cell_type": "markdown",
   "metadata": {
    "id": "-rPErU_Rqx1N"
   },
   "source": [
    "**14.** ¿Cuál es la desviación estándar de la puntuación (`avg_vote`) de los usuarios (multiplícala por 10 para estar en la misma escala que la de los críticos)?"
   ]
  },
  {
   "cell_type": "code",
   "execution_count": 195,
   "metadata": {
    "id": "GP4rniIwqxIl"
   },
   "outputs": [
    {
     "data": {
      "text/plain": [
       "12.349873512977362"
      ]
     },
     "execution_count": 195,
     "metadata": {},
     "output_type": "execute_result"
    }
   ],
   "source": [
    "data[\"avg_vote\"].std()*10"
   ]
  },
  {
   "cell_type": "markdown",
   "metadata": {
    "id": "THEYmMr5FM46"
   },
   "source": [
    "**15.** ¿Cuál de las dos distribuciones, `metascore` o `avg_vote` tiene mayor asimetría (en valor absoluto)?"
   ]
  },
  {
   "cell_type": "code",
   "execution_count": 196,
   "metadata": {
    "id": "1Z8Wl0CODsZx"
   },
   "outputs": [
    {
     "data": {
      "text/plain": [
       "(-0.76, -0.16)"
      ]
     },
     "execution_count": 196,
     "metadata": {},
     "output_type": "execute_result"
    }
   ],
   "source": [
    "stats.skew(data[\"avg_vote\"]), stats.skew(data[\"metascore\"].dropna())"
   ]
  },
  {
   "cell_type": "markdown",
   "metadata": {
    "id": "8XF_O80aVUuU"
   },
   "source": [
    "# Referencias\n",
    "\n",
    "* [IMDb movies extensive dataset](https://www.kaggle.com/stefanoleone992/imdb-extensive-dataset)"
   ]
  }
 ],
 "metadata": {
  "colab": {
   "collapsed_sections": [],
   "name": "exercise_3.ipynb",
   "private_outputs": true,
   "provenance": [],
   "toc_visible": true
  },
  "kernelspec": {
   "display_name": "Python 3",
   "language": "python",
   "name": "python3"
  },
  "language_info": {
   "codemirror_mode": {
    "name": "ipython",
    "version": 3
   },
   "file_extension": ".py",
   "mimetype": "text/x-python",
   "name": "python",
   "nbconvert_exporter": "python",
   "pygments_lexer": "ipython3",
   "version": "3.7.7"
  }
 },
 "nbformat": 4,
 "nbformat_minor": 1
}
